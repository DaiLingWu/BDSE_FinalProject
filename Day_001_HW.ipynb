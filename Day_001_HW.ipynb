{
 "cells": [
  {
   "cell_type": "markdown",
   "metadata": {},
   "source": [
    "想像你經營一個自由載客車隊，你希望能透過數據分析以提升業績，請你思考並描述你如何規劃整體的分析/解決方案："
   ]
  },
  {
   "cell_type": "markdown",
   "metadata": {},
   "source": [
    "1. 核心問題為何 (tips：如何定義 「提升業績 & 你的假設」)\n",
    "提升載客率,減少空車\n",
    "\n",
    "2. 資料從何而來 (tips：哪些資料可能會對你想問的問題產生影響 & 資料如何蒐集)\n",
    "搭承數據,(ex.遠近,地點)\n",
    "乘客屬性(司機觀察得來) （ex.收入,性別,旅客或商務等）\n",
    "付款方式(ex.付現,刷卡)\n",
    "行銷活動與否\n",
    "3. 蒐集而來的資料型態為何\n",
    "\n",
    "\n",
    "4. 你要回答的問題，其如何評估 (tips：你的假設如何驗證)\n"
   ]
  },
  {
   "cell_type": "code",
   "execution_count": null,
   "metadata": {},
   "outputs": [],
   "source": []
  }
 ],
 "metadata": {
  "kernelspec": {
   "display_name": "Python 3",
   "language": "python",
   "name": "python3"
  },
  "language_info": {
   "codemirror_mode": {
    "name": "ipython",
    "version": 3
   },
   "file_extension": ".py",
   "mimetype": "text/x-python",
   "name": "python",
   "nbconvert_exporter": "python",
   "pygments_lexer": "ipython3",
   "version": "3.6.5"
  }
 },
 "nbformat": 4,
 "nbformat_minor": 2
}
